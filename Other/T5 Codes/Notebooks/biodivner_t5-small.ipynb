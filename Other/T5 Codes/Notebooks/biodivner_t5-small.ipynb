{
 "cells": [
  {
   "cell_type": "markdown",
   "metadata": {},
   "source": [
    "# T5-small on BiodivNER"
   ]
  },
  {
   "cell_type": "markdown",
   "metadata": {},
   "source": [
    "## Import & Config"
   ]
  },
  {
   "cell_type": "code",
   "execution_count": 1,
   "metadata": {},
   "outputs": [],
   "source": [
    "import os\n",
    "import pandas as pd\n",
    "import numpy as np\n",
    "import matplotlib.pyplot as plt\n",
    "from tabulate import tabulate"
   ]
  },
  {
   "cell_type": "code",
   "execution_count": 3,
   "metadata": {},
   "outputs": [
    {
     "ename": "NameError",
     "evalue": "name 'tag2id' is not defined",
     "output_type": "error",
     "traceback": [
      "\u001b[1;31m---------------------------------------------------------------------------\u001b[0m",
      "\u001b[1;31mNameError\u001b[0m                                 Traceback (most recent call last)",
      "\u001b[1;32mc:\\Users\\shann\\OneDrive - University of the Philippines\\2023-2024\\CS 198\\CS198Repository\\Notebooks\\biodivner_t5-small.ipynb Cell 4\u001b[0m line \u001b[0;36m2\n\u001b[0;32m      <a href='vscode-notebook-cell:/c%3A/Users/shann/OneDrive%20-%20University%20of%20the%20Philippines/2023-2024/CS%20198/CS198Repository/Notebooks/biodivner_t5-small.ipynb#W6sZmlsZQ%3D%3D?line=0'>1</a>\u001b[0m \u001b[39mimport\u001b[39;00m \u001b[39mtorch\u001b[39;00m\n\u001b[1;32m----> <a href='vscode-notebook-cell:/c%3A/Users/shann/OneDrive%20-%20University%20of%20the%20Philippines/2023-2024/CS%20198/CS198Repository/Notebooks/biodivner_t5-small.ipynb#W6sZmlsZQ%3D%3D?line=1'>2</a>\u001b[0m \u001b[39mfrom\u001b[39;00m \u001b[39mbiodivner_module\u001b[39;00m \u001b[39mimport\u001b[39;00m tag2id, id2tag, train_texts, train_tags, val_texts, val_tags, test_texts, test_tags\n",
      "File \u001b[1;32mc:\\Users\\shann\\OneDrive - University of the Philippines\\2023-2024\\CS 198\\CS198Repository\\Notebooks\\biodivner_module.py:154\u001b[0m\n\u001b[0;32m    151\u001b[0m   val_texts, val_tags \u001b[39m=\u001b[39m get_text_tags_lists(sentences_val)\n\u001b[0;32m    152\u001b[0m   test_texts, test_tags \u001b[39m=\u001b[39m get_text_tags_lists(sentences_test)\n\u001b[1;32m--> 154\u001b[0m tag2id \u001b[39m=\u001b[39m tag2id\n\u001b[0;32m    155\u001b[0m id2tag \u001b[39m=\u001b[39m id2tag\n\u001b[0;32m    156\u001b[0m train_texts \u001b[39m=\u001b[39m train_texts\n",
      "\u001b[1;31mNameError\u001b[0m: name 'tag2id' is not defined"
     ]
    }
   ],
   "source": [
    "import torch\n",
    "from biodivner_module import tag2id, id2tag, train_texts, train_tags, val_texts, val_tags, test_texts, test_tags"
   ]
  },
  {
   "cell_type": "code",
   "execution_count": 4,
   "metadata": {},
   "outputs": [
    {
     "name": "stdout",
     "output_type": "stream",
     "text": [
      "c:\\Users\\shann\\OneDrive - University of the Philippines\\2023-2024\\CS 198\\CS198Repository\\Notebooks\n"
     ]
    }
   ],
   "source": [
    "print(os.getcwd())"
   ]
  }
 ],
 "metadata": {
  "kernelspec": {
   "display_name": "base",
   "language": "python",
   "name": "python3"
  },
  "language_info": {
   "codemirror_mode": {
    "name": "ipython",
    "version": 3
   },
   "file_extension": ".py",
   "mimetype": "text/x-python",
   "name": "python",
   "nbconvert_exporter": "python",
   "pygments_lexer": "ipython3",
   "version": "3.11.4"
  }
 },
 "nbformat": 4,
 "nbformat_minor": 2
}
