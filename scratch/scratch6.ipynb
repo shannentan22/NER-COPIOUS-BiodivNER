{
 "cells": [
  {
   "cell_type": "code",
   "execution_count": null,
   "metadata": {},
   "outputs": [],
   "source": [
    "import os\n",
    "import pandas as pd\n",
    "import numpy as np\n",
    "import matplotlib.pyplot as plt\n",
    "from tabulate import tabulate\n"
   ]
  },
  {
   "cell_type": "code",
   "execution_count": null,
   "metadata": {},
   "outputs": [],
   "source": [
    "root_data_dir = \"../Datasets/NER/BiodivNER/\"\n",
    "\n",
    "dataset = \"train\"\n",
    "train_csv_file_path = \"train.csv\"\n",
    "val_csv_file_path = \"dev.csv\"\n",
    "test_csv_file_path = \"test.csv\"\n"
   ]
  },
  {
   "cell_type": "code",
   "execution_count": null,
   "metadata": {},
   "outputs": [],
   "source": [
    "def loadData(csv_file_path):\n",
    "  dataset_path = os.path.join(root_data_dir, csv_file_path)\n",
    "  data = pd.read_csv(dataset_path, encoding=\"latin1\")\n",
    "  data = data.fillna(method=\"ffill\")\n",
    "  return data\n"
   ]
  },
  {
   "cell_type": "code",
   "execution_count": null,
   "metadata": {},
   "outputs": [],
   "source": [
    "class SentenceGetter(object):\n",
    "    \n",
    "    def __init__(self, data):\n",
    "        self.n_sent = 1\n",
    "        self.data = data\n",
    "        self.empty = False\n",
    "        agg_func = lambda s: [(w, t) for w, t in zip(s[\"Word\"].values.tolist(),                                                          \n",
    "                                                        s[\"Tag\"].values.tolist())]\n",
    "        self.grouped = self.data.groupby(\"Sentence #\").apply(agg_func)\n",
    "        self.sentences = [s for s in self.grouped]\n",
    "    \n",
    "    def get_next(self):\n",
    "        try:\n",
    "            s = self.grouped[\"Sentence: {}\".format(self.n_sent)]\n",
    "            self.n_sent += 1\n",
    "            return s\n",
    "        except:\n",
    "            return None\n"
   ]
  },
  {
   "cell_type": "code",
   "execution_count": null,
   "metadata": {},
   "outputs": [],
   "source": [
    "data = loadData(train_csv_file_path)\n"
   ]
  },
  {
   "cell_type": "code",
   "execution_count": null,
   "metadata": {},
   "outputs": [],
   "source": [
    "val_data = loadData(val_csv_file_path)\n"
   ]
  },
  {
   "cell_type": "code",
   "execution_count": null,
   "metadata": {},
   "outputs": [],
   "source": [
    "test_data = loadData(test_csv_file_path)\n"
   ]
  },
  {
   "cell_type": "code",
   "execution_count": null,
   "metadata": {},
   "outputs": [],
   "source": [
    "VOCAB = list(set(list(data[\"Word\"].values) + \\\n",
    "                 list(val_data[\"Word\"].values) + \\\n",
    "                 list(test_data[\"Word\"].values)))\n",
    "VOCAB.append(\"ENDPAD\")\n",
    "\n",
    "n_words = len(VOCAB) #n_words includes all vocab from train and validation test.\n",
    "\n",
    "tags = list(set(data[\"Tag\"].values))\n",
    "\n",
    "n_tags = len(tags)\n"
   ]
  },
  {
   "cell_type": "code",
   "execution_count": null,
   "metadata": {},
   "outputs": [],
   "source": [
    "getter = SentenceGetter(data)\n",
    "sentences = getter.sentences\n",
    "sent = getter.get_next()\n",
    "print(sent)\n"
   ]
  },
  {
   "cell_type": "code",
   "execution_count": null,
   "metadata": {},
   "outputs": [],
   "source": [
    "getter_val = SentenceGetter(val_data)\n",
    "sentences_val = getter_val.sentences\n",
    "sent_val = getter_val.get_next()\n",
    "print(sent_val)\n"
   ]
  },
  {
   "cell_type": "code",
   "execution_count": null,
   "metadata": {},
   "outputs": [],
   "source": [
    "getter_test = SentenceGetter(test_data)\n",
    "sentences_test = getter_test.sentences\n",
    "sent_test = getter_test.get_next()\n",
    "print(sent_test)\n"
   ]
  },
  {
   "cell_type": "code",
   "execution_count": null,
   "metadata": {},
   "outputs": [],
   "source": [
    "tag2id = {tag: id for id, tag in enumerate(tags)}\n",
    "id2tag = {id: tag for tag, id in tag2id.items()}\n"
   ]
  },
  {
   "cell_type": "code",
   "execution_count": null,
   "metadata": {},
   "outputs": [],
   "source": [
    "tag2id_list = list(tag2id.items())\n"
   ]
  },
  {
   "cell_type": "code",
   "execution_count": null,
   "metadata": {},
   "outputs": [],
   "source": [
    "id2tag_list = list(id2tag.items())\n"
   ]
  },
  {
   "cell_type": "code",
   "execution_count": null,
   "metadata": {},
   "outputs": [],
   "source": [
    "def get_text_tags_lists(sentences):\n",
    "  texts = []\n",
    "  tags = []\n",
    "  for sent in sentences: #list of tuples    \n",
    "    sent_texts = []\n",
    "    sent_tags = []  \n",
    "    for tuple1 in sent:  \n",
    "      sent_texts.append(tuple1[0])\n",
    "      sent_tags.append(tuple1[1])\n",
    "\n",
    "    texts.append(sent_texts)\n",
    "    tags.append(sent_tags)\n",
    "  return texts, tags\n"
   ]
  },
  {
   "cell_type": "code",
   "execution_count": null,
   "metadata": {},
   "outputs": [],
   "source": [
    "train_texts, train_tags = get_text_tags_lists(sentences)\n",
    "val_texts, val_tags = get_text_tags_lists(sentences_val)\n",
    "test_texts, test_tags = get_text_tags_lists(sentences_test)\n"
   ]
  },
  {
   "cell_type": "code",
   "execution_count": null,
   "metadata": {},
   "outputs": [],
   "source": [
    "import torch\n",
    "import torch.nn as nn\n",
    "# from torch.nn.parallel import DistributedDataParallel as DDP\n",
    "from transformers import BertTokenizerFast, T5ForConditionalGeneration, T5Tokenizer, T5TokenizerFast, AdamW, Trainer, TrainingArguments\n",
    "from torch.utils.data import DataLoader, TensorDataset\n",
    "from sklearn.model_selection import train_test_split\n",
    "from tqdm import tqdm\n",
    "from seqeval.metrics import precision_score, recall_score, f1_score, classification_report, accuracy_score\n"
   ]
  },
  {
   "cell_type": "code",
   "execution_count": null,
   "metadata": {},
   "outputs": [],
   "source": [
    "tokenizer = T5TokenizerFast.from_pretrained(\"t5-small\")\n"
   ]
  },
  {
   "cell_type": "code",
   "execution_count": null,
   "metadata": {},
   "outputs": [],
   "source": [
    "train_encodings = tokenizer(train_texts, is_split_into_words=True, return_offsets_mapping=True, padding=True, truncation=True)\n",
    "val_encodings = tokenizer(val_texts, is_split_into_words=True, return_offsets_mapping=True, padding=True, truncation=True)\n",
    "test_encodings = tokenizer(test_texts, is_split_into_words=True, return_offsets_mapping=True, padding=True, truncation=True)\n"
   ]
  },
  {
   "cell_type": "code",
   "execution_count": null,
   "metadata": {},
   "outputs": [],
   "source": [
    "def encode_tags(tags, encodings, tokenizer):\n",
    "    labels = [[tag2id[tag] for tag in doc] for doc in tags]\n",
    "    encoded_labels = []\n",
    "\n",
    "    for doc_labels, doc_input_ids, doc_offset in zip(labels, encodings.input_ids, encodings.offset_mapping):\n",
    "        doc_enc_labels = np.ones(len(doc_input_ids), dtype=int) * -100\n",
    "        arr_offset = np.array(doc_offset)\n",
    "\n",
    "        # Get the start and end positions of non-padding tokens using offset_mapping\n",
    "        non_pad_tokens = [(start, end) for start, end in arr_offset if start != 0 or end != 0]\n",
    "\n",
    "        # Calculate max_len based on conditions\n",
    "        max_len = len(doc_labels)\n",
    "\n",
    "        # Align labels with non-padding tokens\n",
    "        for i, (start, end) in enumerate(non_pad_tokens[:max_len]):\n",
    "            # Assuming start and end are inclusive\n",
    "            doc_enc_labels[start:end + 1] = doc_labels[i]\n",
    "\n",
    "        encoded_labels.append(doc_enc_labels.tolist())\n",
    "\n",
    "    return encoded_labels\n"
   ]
  },
  {
   "cell_type": "code",
   "execution_count": null,
   "metadata": {},
   "outputs": [],
   "source": [
    "train_labels = encode_tags(train_tags, train_encodings, tokenizer)\n",
    "val_labels = encode_tags(val_tags, val_encodings, tokenizer)\n",
    "test_labels = encode_tags(test_tags, test_encodings, tokenizer)\n"
   ]
  },
  {
   "cell_type": "code",
   "execution_count": null,
   "metadata": {},
   "outputs": [],
   "source": [
    "print(len(train_encodings['offset_mapping'][0]))\n",
    "print(len(train_encodings['input_ids'][0]))\n"
   ]
  },
  {
   "cell_type": "code",
   "execution_count": null,
   "metadata": {},
   "outputs": [],
   "source": [
    "for i in train_encodings[\"input_ids\"][0:3]:\n",
    "    print(len(i), i)\n"
   ]
  },
  {
   "cell_type": "code",
   "execution_count": null,
   "metadata": {},
   "outputs": [],
   "source": [
    "for i in train_labels[0:10]:\n",
    "    print(len(i), i)\n"
   ]
  },
  {
   "cell_type": "code",
   "execution_count": null,
   "metadata": {},
   "outputs": [],
   "source": [
    "train_encodings.pop(\"offset_mapping\") # we don't want to pass this to the model\n",
    "val_encodings.pop(\"offset_mapping\")\n",
    "test_encodings.pop(\"offset_mapping\")\n"
   ]
  },
  {
   "cell_type": "code",
   "execution_count": null,
   "metadata": {},
   "outputs": [],
   "source": [
    "model = T5ForConditionalGeneration.from_pretrained(\"t5-small\")\n",
    "# model = DataParallel(model)\n",
    "# print(\"Model Device IDs:\", model.device_ids)\n",
    "# optimizer = AdamW(model.parameters(), lr=5e-5)\n",
    "device = torch.device(\"cuda\" if torch.cuda.is_available() else \"cpu\")\n",
    "model.to(device)\n"
   ]
  },
  {
   "cell_type": "code",
   "execution_count": null,
   "metadata": {},
   "outputs": [],
   "source": [
    "training_args = TrainingArguments(\n",
    "    output_dir=\"./output_dir\",  # Change this to your desired output directory\n",
    "    num_train_epochs=1,\n",
    "    per_device_train_batch_size=1,\n",
    "    per_device_eval_batch_size=1,\n",
    "    evaluation_strategy=\"no\",\n",
    "    # eval_steps=250,  # Evaluate every 250 steps\n",
    "    logging_steps=100,  # Log every 100 steps\n",
    "    learning_rate=5e-5,\n",
    "    save_total_limit=0, \n",
    "    remove_unused_columns=True,  # Keep all columns in the dataset\n",
    "    push_to_hub=False,  # Set to True if you want to push to the Hugging Face Model Hub\n",
    "    gradient_accumulation_steps=4,\n",
    "    # gradient_checkpointing=True,\n",
    "    optim=\"adamw_bnb_8bit\",\n",
    "    eval_accumulation_steps=4\n",
    ")\n"
   ]
  },
  {
   "cell_type": "code",
   "execution_count": null,
   "metadata": {},
   "outputs": [],
   "source": [
    "class NERDataset(torch.utils.data.Dataset):\n",
    "    def __init__(self, encodings, labels):\n",
    "        self.encodings = encodings\n",
    "        self.labels = labels\n",
    "\n",
    "    def __len__(self):\n",
    "        return len(self.labels)\n",
    "\n",
    "    def __getitem__(self, idx):\n",
    "        item = {\n",
    "            'input_ids': self.encodings['input_ids'][idx],\n",
    "            'attention_mask': self.encodings['attention_mask'][idx],\n",
    "            'labels': torch.tensor(self.labels[idx]),\n",
    "        }\n",
    "\n",
    "        return item\n"
   ]
  },
  {
   "cell_type": "code",
   "execution_count": null,
   "metadata": {},
   "outputs": [],
   "source": [
    "train_dataset = NERDataset(train_encodings, train_labels)\n",
    "val_dataset = NERDataset(val_encodings, val_labels)\n",
    "test_dataset = NERDataset(test_encodings, test_labels)\n"
   ]
  },
  {
   "cell_type": "code",
   "execution_count": null,
   "metadata": {},
   "outputs": [],
   "source": [
    "def compute_metrics(p):\n",
    "    predictions, labels = p\n",
    "    predictions = np.argmax(predictions, axis=2)\n",
    "\n",
    "    # Remove ignored index (special tokens)\n",
    "    # Create a long 1D list of y_true and y_pred\n",
    "    y_true = []\n",
    "    y_pred = []\n",
    "    for preds, lbls in zip(predictions, labels):  \n",
    "        [y_true.append(id2tag[l]) for p, l in zip(preds, lbls) if l != -100]\n",
    "        [y_pred.append(id2tag[p]) for p, l in zip(preds, lbls) if l != -100]\n",
    "\n",
    "    acc = accuracy_score([y_true], [y_pred])\n",
    "    seqeval_report = classification_report([y_true], [y_pred])\n",
    "\n",
    "    return {\n",
    "        \"accuracy\": acc,\n",
    "        \"seqeval_report\": seqeval_report\n",
    "    }\n",
    "\n",
    "class NERDataCollator:\n",
    "    def __call__(self, batch):\n",
    "        input_ids = [item['input_ids'] for item in batch]\n",
    "        attention_mask = [item['attention_mask'] for item in batch]\n",
    "        labels = [item['labels'] for item in batch]\n",
    "\n",
    "        # Pad inputs and labels to the maximum sequence length in the batch\n",
    "        max_len = max(len(ids) for ids in input_ids)\n",
    "        padded_input_ids = [ids + [0] * (max_len - len(ids)) for ids in input_ids]\n",
    "        padded_attention_mask = [mask + [0] * (max_len - len(mask)) for mask in attention_mask]\n",
    "        padded_labels = [lbl + [-100] * (max_len - len(lbl)) for lbl in labels]\n",
    "\n",
    "        return {\n",
    "            'input_ids': torch.tensor(padded_input_ids),\n",
    "            'attention_mask': torch.tensor(padded_attention_mask),\n",
    "            'labels': torch.tensor(padded_labels),\n",
    "        }\n",
    "\n",
    "# Create an instance of the NERDataCollator\n",
    "data_collator = NERDataCollator()\n"
   ]
  },
  {
   "cell_type": "code",
   "execution_count": null,
   "metadata": {},
   "outputs": [],
   "source": [
    "trainer = Trainer(\n",
    "    model=model,                         # the instantiated Transformers model to be trained\n",
    "    args=training_args,                  # training arguments, defined above\n",
    "    train_dataset=train_dataset,         # training dataset\n",
    "    eval_dataset=val_dataset,             # evaluation dataset\n",
    "    # data_collator=data_collator,\n",
    "    # compute_metrics=compute_metrics\n",
    ")\n"
   ]
  },
  {
   "cell_type": "code",
   "execution_count": null,
   "metadata": {},
   "outputs": [],
   "source": [
    "trainer.train()\n",
    "eval_history = trainer.evaluate()\n",
    "predictionsOutput = trainer.predict(test_dataset) \n",
    "\n",
    "print(eval_history[\"seqeval_report\"])"
   ]
  }
 ],
 "metadata": {
  "language_info": {
   "codemirror_mode": {
    "name": "ipython",
    "version": 3
   },
   "file_extension": ".py",
   "mimetype": "text/x-python",
   "name": "python",
   "nbconvert_exporter": "python",
   "pygments_lexer": "ipython3",
   "version": 3
  }
 },
 "nbformat": 4,
 "nbformat_minor": 2
}
